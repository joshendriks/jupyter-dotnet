{
 "cells": [
  {
   "cell_type": "markdown",
   "metadata": {},
   "source": [
    "### Most things work as usual"
   ]
  },
  {
   "cell_type": "markdown",
   "metadata": {},
   "source": [
    "Define a class"
   ]
  },
  {
   "cell_type": "code",
   "execution_count": null,
   "metadata": {},
   "outputs": [],
   "source": [
    "class Person\n",
    "{\n",
    "    public Person (string firstName, string lastName)\n",
    "    {\n",
    "        FirstName = firstName;\n",
    "        LastName = lastName;\n",
    "    }\n",
    "    \n",
    "    public string FirstName {get; set;}\n",
    "    public string LastName {get; set;}\n",
    "}"
   ]
  },
  {
   "cell_type": "markdown",
   "metadata": {},
   "source": [
    "Define a list"
   ]
  },
  {
   "cell_type": "code",
   "execution_count": null,
   "metadata": {},
   "outputs": [],
   "source": [
    "var montyPythonMembers = new List<Person>{\n",
    "    new Person(\"Graham\", \"Chapman\"),\n",
    "    new Person(\"John\", \"Cleese\"),\n",
    "    new Person(\"Terry\", \"Gilliam\"),\n",
    "    new Person(\"Eric\", \"Idle\"),\n",
    "    new Person(\"Terry\", \"Jones\"),\n",
    "    new Person(\"Michael\", \"Palin\")\n",
    "};"
   ]
  },
  {
   "cell_type": "markdown",
   "metadata": {},
   "source": [
    "### Console.WriteLine() works as expected"
   ]
  },
  {
   "cell_type": "markdown",
   "metadata": {},
   "source": [
    "Please note the absence of the semicolon."
   ]
  },
  {
   "cell_type": "code",
   "execution_count": null,
   "metadata": {},
   "outputs": [],
   "source": [
    "Console.WriteLine(montyPythonMembers[0].FirstName)"
   ]
  },
  {
   "cell_type": "markdown",
   "metadata": {},
   "source": [
    "### display() might be more useful"
   ]
  },
  {
   "cell_type": "code",
   "execution_count": null,
   "metadata": {},
   "outputs": [],
   "source": [
    "display(montyPythonMembers)"
   ]
  },
  {
   "cell_type": "markdown",
   "metadata": {},
   "source": [
    "### Use of Nuget packages"
   ]
  },
  {
   "cell_type": "code",
   "execution_count": null,
   "metadata": {
    "tags": []
   },
   "outputs": [],
   "source": [
    "#r \"nuget: SkiaSharp.NativeAssets.Linux.NoDependencies\""
   ]
  },
  {
   "cell_type": "code",
   "execution_count": null,
   "metadata": {
    "tags": []
   },
   "outputs": [],
   "source": [
    "using SkiaSharp;\n",
    "\n",
    "SKImageInfo info = new SKImageInfo(256, 256);\n",
    "SKSurface surface = SKSurface.Create(info);\n",
    "SKCanvas canvas = surface.Canvas;\n",
    "\n",
    "canvas.Clear(SKColors.White);\n",
    "\n",
    "// configure our brush\n",
    "SKPaint redBrush = new SKPaint {\n",
    "    Color = new SKColor(0xff, 0, 0),\n",
    "    IsStroke = true\n",
    "};\n",
    "SKPaint blueBrush = new SKPaint {\n",
    "    Color = new SKColor(0, 0, 0xff),\n",
    "    IsStroke = true\n",
    "};\n",
    "\n",
    "for (int i = 0; i < 64; i += 8) {\n",
    "    SKRect rect = new SKRect(i, i, 256 - i - 1, 256 - i - 1);\n",
    "    canvas.DrawRect(rect, (i % 16 == 0) ? redBrush : blueBrush);\n",
    "}\n",
    "\n",
    "surface.Snapshot().Display();"
   ]
  },
  {
   "cell_type": "code",
   "execution_count": null,
   "metadata": {},
   "outputs": [],
   "source": []
  }
 ],
 "metadata": {
  "kernelspec": {
   "display_name": ".NET (C#)",
   "language": "C#",
   "name": ".net-csharp"
  },
  "language_info": {
   "file_extension": ".cs",
   "mimetype": "text/x-csharp",
   "name": "C#",
   "pygments_lexer": "csharp",
   "version": "11.0"
  }
 },
 "nbformat": 4,
 "nbformat_minor": 4
}
