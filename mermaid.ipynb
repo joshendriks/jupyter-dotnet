{
 "cells": [
  {
   "cell_type": "markdown",
   "id": "edbf09dd-3518-4303-b842-faef8334e6a8",
   "metadata": {},
   "source": [
    "```mermaid\n",
    "flowchart LR\n",
    "\n",
    "A[Hard] -->|Text| B(Round)\n",
    "B --> C{Decision}\n",
    "C -->|One| D[Result 1]\n",
    "C -->|Two| E[Result 2]\n",
    "```"
   ]
  },
  {
   "cell_type": "markdown",
   "id": "69e2f13b-cee1-4115-9230-92b3ebbb0665",
   "metadata": {},
   "source": [
    "```mermaid\n",
    "mindmap\n",
    "  root((mindmap))\n",
    "    Origins\n",
    "      Long history\n",
    "      ::icon(fa fa-book)\n",
    "      Popularisation\n",
    "        British popular psychology author Tony Buzan\n",
    "    Research\n",
    "      On effectiveness<br/>and features\n",
    "      On Automatic creation\n",
    "        Uses\n",
    "            Creative techniques\n",
    "            Strategic planning\n",
    "            Argument mapping\n",
    "    Tools\n",
    "      Pen and paper\n",
    "      Mermaid\n",
    "\n",
    "```"
   ]
  },
  {
   "cell_type": "code",
   "execution_count": null,
   "id": "0f2c30b9-6b7f-409e-9d80-011be81993c6",
   "metadata": {},
   "outputs": [],
   "source": []
  }
 ],
 "metadata": {
  "kernelspec": {
   "display_name": ".NET (C#)",
   "language": "C#",
   "name": ".net-csharp"
  },
  "language_info": {
   "file_extension": ".cs",
   "mimetype": "text/x-csharp",
   "name": "C#",
   "pygments_lexer": "csharp",
   "version": "12.0"
  }
 },
 "nbformat": 4,
 "nbformat_minor": 5
}
